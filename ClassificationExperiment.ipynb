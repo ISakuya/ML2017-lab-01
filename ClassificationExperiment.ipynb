{
 "cells": [
  {
   "cell_type": "code",
   "execution_count": 8,
   "metadata": {},
   "outputs": [
    {
     "data": {
      "image/png": "[encoded data removed]",
      "text/plain": [
       "<matplotlib.figure.Figure at 0x7fc70dd8d160>"
      ]
     },
     "metadata": {},
     "output_type": "display_data"
    },
    {
     "name": "stdout",
     "output_type": "stream",
     "text": [
      "72\n",
      "29\n"
     ]
    }
   ],
   "source": [
    "#linear classification with gradient descent\n",
    "import numpy as np\n",
    "import matplotlib.pyplot as plt\n",
    "import sklearn.datasets as sd\n",
    "from sklearn.model_selection import train_test_split\n",
    "\n",
    "def getGradient(w,x,y):\n",
    "    '''\n",
    "    calculate gradient\n",
    "    '''\n",
    "    m = x.shape[0]\n",
    "    n = x.shape[1]\n",
    "    gradient = np.zeros((n,1))\n",
    "    for i in range(m):\n",
    "        gradient += w\n",
    "        if (1 - (y[i]*np.dot(w.T,x[i].T))[0])>0:\n",
    "            gradient += 0-C*y[i]*(x[i].reshape((n,1)))\n",
    "    gradient = gradient/m\n",
    "    return gradient\n",
    "\n",
    "def getLoss(w,x,y):\n",
    "    '''\n",
    "    calculate the value of loss function\n",
    "    '''\n",
    "    loss = 0\n",
    "    for i in range(x.shape[0]):\n",
    "        loss += max(0,1 - (y[i]*np.dot(w.T,x[i].T)[0]))\n",
    "    return 0.5*(np.dot(w.T,w)[0][0])+C*loss\n",
    "\n",
    "def getError(w,x,y):\n",
    "    '''\n",
    "    calculate the number of wrong classification\n",
    "    '''\n",
    "    error = 0\n",
    "    m = x.shape[0]\n",
    "    for i in range(m):\n",
    "        if x[i].dot(w)[0]>-0.2:\n",
    "            predict = 1\n",
    "        else: predict = -1\n",
    "        if predict != y[i]: error += 1\n",
    "    return error\n",
    "\n",
    "#read data\n",
    "data = sd.load_svmlight_file('australian_scale')\n",
    "X,y = data[0],data[1]\n",
    "#initialize hyper parameters and weight\n",
    "alpha = 0.05\n",
    "C = 1\n",
    "times = 100\n",
    "w = np.zeros((X.shape[1] + 1,1))\n",
    "#spilt data\n",
    "X_train, X_test, y_train, y_test = train_test_split(X, y, test_size=0.33, random_state=90)\n",
    "appendTrain = np.ones((X_train.shape[0],1))\n",
    "appendTest = np.ones((X_test.shape[0],1))\n",
    "X_train = np.column_stack((appendTrain,X_train.toarray()))\n",
    "X_test = np.column_stack((appendTest,X_test.toarray()))\n",
    "\n",
    "trainLossList = []\n",
    "testLossList = []\n",
    "#start to train and calculate loss\n",
    "for i in range(times):\n",
    "    gradient = getGradient(w,X_train,y_train)\n",
    "    w = w - alpha*gradient\n",
    "    trainLossList.append(getLoss(w,X_train,y_train))\n",
    "    testLossList.append(getLoss(w,X_test,y_test))\n",
    "#draw the curve\n",
    "time = np.arange(times)\n",
    "plt.plot(time, trainLossList, label='train')\n",
    "plt.plot(time, testLossList, label='test')\n",
    "plt.show()\n",
    "#print the numbers of wrong classification\n",
    "print(getError(w,X_train,y_train))\n",
    "print(getError(w,X_test,y_test))\n"
   ]
  },
  {
   "cell_type": "code",
   "execution_count": null,
   "metadata": {},
   "outputs": [],
   "source": []
  }
 ],
 "metadata": {
  "kernelspec": {
   "display_name": "Python 3",
   "language": "python",
   "name": "python3"
  },
  "language_info": {
   "codemirror_mode": {
    "name": "ipython",
    "version": 3
   },
   "file_extension": ".py",
   "mimetype": "text/x-python",
   "name": "python",
   "nbconvert_exporter": "python",
   "pygments_lexer": "ipython3",
   "version": "3.5.2"
  }
 },
 "nbformat": 4,
 "nbformat_minor": 2
}
