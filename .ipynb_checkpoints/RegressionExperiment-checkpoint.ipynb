{
 "cells": [
  {
   "cell_type": "code",
   "execution_count": 3,
   "metadata": {},
   "outputs": [
    {
     "data": {
      "image/png": "[encoded data removed]",
      "text/plain": [
       "<matplotlib.figure.Figure at 0x7f57e4928da0>"
      ]
     },
     "metadata": {},
     "output_type": "display_data"
    }
   ],
   "source": [
    "import numpy as np\n",
    "import matplotlib.pyplot as plt\n",
    "import sklearn.datasets as sd\n",
    "from sklearn.model_selection import train_test_split\n",
    "\n",
    "def getLoss(w,x,y):\n",
    "    loss = 0\n",
    "    m = x.shape[0]\n",
    "    for i in range(m):\n",
    "        xi = np.column_stack(([1],x.getrow(i).toarray()))\n",
    "        hi = xi.dot(w)\n",
    "        loss += (hi - y[i])*(hi - y[i])/2\n",
    "    return loss[0][0]\n",
    "\n",
    "def updateWeight(w,x,y):\n",
    "    m = x.shape[0]\n",
    "    n = x.shape[1] + 1\n",
    "    tempw = np.zeros((n,1))\n",
    "    for j in range(n):\n",
    "        gradient = 0\n",
    "        for i in range(m):\n",
    "            xi = np.column_stack(([1],x.getrow(i).toarray()))\n",
    "            hi = xi.dot(w)\n",
    "            gradient += (hi - y[i])*xi[0][j]\n",
    "        gradient /= m\n",
    "        tempw[j][0] = w[j][0] - alpha*gradient\n",
    "    return tempw\n",
    "\n",
    "data = sd.load_svmlight_file('housing_scale')\n",
    "X,y = data[0],data[1]\n",
    "X_train, X_test, y_train, y_test = train_test_split(X, y, test_size=0.33, random_state=30)\n",
    "alpha = 0.2\n",
    "w = np.zeros((X.shape[1] + 1,1))\n",
    "times = 30\n",
    "trainLossList = []\n",
    "testLossList = []\n",
    "for t in range(times):\n",
    "    w = updateWeight(w, X_train, y_train)\n",
    "    trainLossList.append(getLoss(w, X_train, y_train))\n",
    "    testLossList.append(getLoss(w, X_test, y_test))\n",
    "\n",
    "time = np.arange(times)\n",
    "plt.plot(time, trainLossList, label='train')\n",
    "plt.plot(time, testLossList, label='test')\n",
    "plt.show()"
   ]
  }
 ],
 "metadata": {
  "kernelspec": {
   "display_name": "Python 3",
   "language": "python",
   "name": "python3"
  },
  "language_info": {
   "codemirror_mode": {
    "name": "ipython",
    "version": 3
   },
   "file_extension": ".py",
   "mimetype": "text/x-python",
   "name": "python",
   "nbconvert_exporter": "python",
   "pygments_lexer": "ipython3",
   "version": "3.5.2"
  }
 },
 "nbformat": 4,
 "nbformat_minor": 2
}
